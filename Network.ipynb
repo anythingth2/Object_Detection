{
 "cells": [
  {
   "cell_type": "code",
   "execution_count": 95,
   "metadata": {},
   "outputs": [],
   "source": [
    "from keras import Model\n",
    "from keras.layers import Dense,Flatten,Input,Conv2D,MaxPool2D\n",
    "from keras.layers import Activation,LeakyReLU,ReLU\n",
    "from keras.layers.normalization import BatchNormalization\n",
    "\n",
    "import numpy as np"
   ]
  },
  {
   "cell_type": "code",
   "execution_count": 4,
   "metadata": {},
   "outputs": [],
   "source": [
    "model_cfg = 'yolov3-tiny.cfg'"
   ]
  },
  {
   "cell_type": "code",
   "execution_count": 59,
   "metadata": {},
   "outputs": [],
   "source": [
    "def parse_cfg(cfg_path):\n",
    "    cfg_file = open(cfg_path,'r')\n",
    "    lines = cfg_file.read().split('\\n')\n",
    "    \n",
    "    lines = [x for x in lines if x != '']\n",
    "    lines = [x for x in lines if x[0] != '#']\n",
    "    \n",
    "    layers = []\n",
    "    layer = {}\n",
    "    \n",
    "    for line in lines:\n",
    "        if line[0] == '[':\n",
    "            if len(layers) != 0 or layer != {}:\n",
    "                layers.append(layer)\n",
    "                layer = {}\n",
    "            layer['type'] = line.replace('[','').replace(']','')\n",
    "        else:\n",
    "            key,value = line.split('=')\n",
    "            layer[key] = value\n",
    "    layers.append(layer)\n",
    "    return layers"
   ]
  },
  {
   "cell_type": "code",
   "execution_count": 142,
   "metadata": {},
   "outputs": [],
   "source": [
    "def create_model(layers_dict):\n",
    "    model = Model()\n",
    "    \n",
    "    model_info = {}\n",
    "    \n",
    "    for layer_dict in layers_dict:\n",
    "        if layer_dict['type'] == 'net':\n",
    "            model_info = layer_dict\n",
    "            height, width, channels = (int(model_info['height']), int(model_info['width']), int(model_info['channels']))\n",
    "            input_layer = Input(( height, width, channels ))\n",
    "            x = input_layer\n",
    "        elif layer_dict['type'] == 'convolutional':\n",
    "            filters = int(layer_dict['filters'])\n",
    "            kernel_size = (int(layer_dict['size']), int(layer_dict['size']))\n",
    "            padding = 'same' if layer_dict['pad'] == '1' else 'valid'\n",
    "            stride = (int(layer_dict['stride']), int(layer_dict['stride']))\n",
    "            \n",
    "            activation = layer_dict['activation']\n",
    "            \n",
    "            x = Conv2D(filters = filters, kernel_size = kernel_size, padding = padding, strides = stride)(x)\n",
    "            \n",
    "            try:\n",
    "                batch_norm = int(layer_dict['batch_normalize'])\n",
    "                if batch_norm:\n",
    "                    x = BatchNormalization()(x)\n",
    "            except:\n",
    "                pass\n",
    "            \n",
    "            if activation == 'leaky':\n",
    "                x = LeakyReLU(0.1)(x)\n",
    "            elif activation == 'relu':\n",
    "                x = Activation(activation='linear')(x)\n",
    "        elif layer_dict['type'] == 'maxpool':\n",
    "            size = ( int(layer_dict['size']), int(layer_dict['size']) )\n",
    "            stride = int(layer_dict['stride'])\n",
    "            padding = 'same' if stride == 1 else 'valid'\n",
    "    \n",
    "            x = MaxPool2D(size,strides=stride,padding=padding)(x)\n",
    "        elif layer_dict['type'] == 'yolo':\n",
    "            break\n",
    "            \n",
    "    model = Model(inputs=input_layer,outputs = x)\n",
    "    return model"
   ]
  },
  {
   "cell_type": "code",
   "execution_count": 143,
   "metadata": {},
   "outputs": [],
   "source": [
    "model = create_model(parse_cfg(model_cfg))"
   ]
  },
  {
   "cell_type": "code",
   "execution_count": 144,
   "metadata": {},
   "outputs": [
    {
     "name": "stdout",
     "output_type": "stream",
     "text": [
      "_________________________________________________________________\n",
      "Layer (type)                 Output Shape              Param #   \n",
      "=================================================================\n",
      "input_12 (InputLayer)        (None, 416, 416, 3)       0         \n",
      "_________________________________________________________________\n",
      "conv2d_83 (Conv2D)           (None, 416, 416, 16)      448       \n",
      "_________________________________________________________________\n",
      "batch_normalization_75 (Batc (None, 416, 416, 16)      64        \n",
      "_________________________________________________________________\n",
      "leaky_re_lu_75 (LeakyReLU)   (None, 416, 416, 16)      0         \n",
      "_________________________________________________________________\n",
      "max_pooling2d_49 (MaxPooling (None, 208, 208, 16)      0         \n",
      "_________________________________________________________________\n",
      "conv2d_84 (Conv2D)           (None, 208, 208, 32)      4640      \n",
      "_________________________________________________________________\n",
      "batch_normalization_76 (Batc (None, 208, 208, 32)      128       \n",
      "_________________________________________________________________\n",
      "leaky_re_lu_76 (LeakyReLU)   (None, 208, 208, 32)      0         \n",
      "_________________________________________________________________\n",
      "max_pooling2d_50 (MaxPooling (None, 104, 104, 32)      0         \n",
      "_________________________________________________________________\n",
      "conv2d_85 (Conv2D)           (None, 104, 104, 64)      18496     \n",
      "_________________________________________________________________\n",
      "batch_normalization_77 (Batc (None, 104, 104, 64)      256       \n",
      "_________________________________________________________________\n",
      "leaky_re_lu_77 (LeakyReLU)   (None, 104, 104, 64)      0         \n",
      "_________________________________________________________________\n",
      "max_pooling2d_51 (MaxPooling (None, 52, 52, 64)        0         \n",
      "_________________________________________________________________\n",
      "conv2d_86 (Conv2D)           (None, 52, 52, 128)       73856     \n",
      "_________________________________________________________________\n",
      "batch_normalization_78 (Batc (None, 52, 52, 128)       512       \n",
      "_________________________________________________________________\n",
      "leaky_re_lu_78 (LeakyReLU)   (None, 52, 52, 128)       0         \n",
      "_________________________________________________________________\n",
      "max_pooling2d_52 (MaxPooling (None, 26, 26, 128)       0         \n",
      "_________________________________________________________________\n",
      "conv2d_87 (Conv2D)           (None, 26, 26, 256)       295168    \n",
      "_________________________________________________________________\n",
      "batch_normalization_79 (Batc (None, 26, 26, 256)       1024      \n",
      "_________________________________________________________________\n",
      "leaky_re_lu_79 (LeakyReLU)   (None, 26, 26, 256)       0         \n",
      "_________________________________________________________________\n",
      "max_pooling2d_53 (MaxPooling (None, 13, 13, 256)       0         \n",
      "_________________________________________________________________\n",
      "conv2d_88 (Conv2D)           (None, 13, 13, 512)       1180160   \n",
      "_________________________________________________________________\n",
      "batch_normalization_80 (Batc (None, 13, 13, 512)       2048      \n",
      "_________________________________________________________________\n",
      "leaky_re_lu_80 (LeakyReLU)   (None, 13, 13, 512)       0         \n",
      "_________________________________________________________________\n",
      "max_pooling2d_54 (MaxPooling (None, 13, 13, 512)       0         \n",
      "_________________________________________________________________\n",
      "conv2d_89 (Conv2D)           (None, 13, 13, 1024)      4719616   \n",
      "_________________________________________________________________\n",
      "batch_normalization_81 (Batc (None, 13, 13, 1024)      4096      \n",
      "_________________________________________________________________\n",
      "leaky_re_lu_81 (LeakyReLU)   (None, 13, 13, 1024)      0         \n",
      "_________________________________________________________________\n",
      "conv2d_90 (Conv2D)           (None, 13, 13, 256)       262400    \n",
      "_________________________________________________________________\n",
      "batch_normalization_82 (Batc (None, 13, 13, 256)       1024      \n",
      "_________________________________________________________________\n",
      "leaky_re_lu_82 (LeakyReLU)   (None, 13, 13, 256)       0         \n",
      "_________________________________________________________________\n",
      "conv2d_91 (Conv2D)           (None, 13, 13, 512)       1180160   \n",
      "_________________________________________________________________\n",
      "batch_normalization_83 (Batc (None, 13, 13, 512)       2048      \n",
      "_________________________________________________________________\n",
      "leaky_re_lu_83 (LeakyReLU)   (None, 13, 13, 512)       0         \n",
      "_________________________________________________________________\n",
      "conv2d_92 (Conv2D)           (None, 13, 13, 255)       130815    \n",
      "=================================================================\n",
      "Total params: 7,876,959\n",
      "Trainable params: 7,871,359\n",
      "Non-trainable params: 5,600\n",
      "_________________________________________________________________\n"
     ]
    }
   ],
   "source": [
    "model.summary()"
   ]
  },
  {
   "cell_type": "code",
   "execution_count": 104,
   "metadata": {},
   "outputs": [],
   "source": [
    "weight = np.fromfile('yolov3-tiny.weights',dtype=np.float32)"
   ]
  },
  {
   "cell_type": "code",
   "execution_count": 105,
   "metadata": {},
   "outputs": [
    {
     "data": {
      "text/plain": [
       "(8858739,)"
      ]
     },
     "execution_count": 105,
     "metadata": {},
     "output_type": "execute_result"
    }
   ],
   "source": [
    "weight.shape"
   ]
  },
  {
   "cell_type": "code",
   "execution_count": 109,
   "metadata": {},
   "outputs": [
    {
     "data": {
      "text/plain": [
       "0.0"
      ]
     },
     "execution_count": 109,
     "metadata": {},
     "output_type": "execute_result"
    }
   ],
   "source": [
    "weight[4]"
   ]
  },
  {
   "cell_type": "code",
   "execution_count": 126,
   "metadata": {},
   "outputs": [
    {
     "data": {
      "text/plain": [
       "32"
      ]
     },
     "execution_count": 126,
     "metadata": {},
     "output_type": "execute_result"
    }
   ],
   "source": [
    "len(model.layers[6].get_weights()[3])"
   ]
  },
  {
   "cell_type": "code",
   "execution_count": 133,
   "metadata": {},
   "outputs": [
    {
     "data": {
      "text/plain": [
       "3782.7999999999997"
      ]
     },
     "execution_count": 133,
     "metadata": {},
     "output_type": "execute_result"
    }
   ],
   "source": []
  },
  {
   "cell_type": "code",
   "execution_count": null,
   "metadata": {},
   "outputs": [],
   "source": []
  }
 ],
 "metadata": {
  "kernelspec": {
   "display_name": "Python 3",
   "language": "python",
   "name": "python3"
  },
  "language_info": {
   "codemirror_mode": {
    "name": "ipython",
    "version": 3
   },
   "file_extension": ".py",
   "mimetype": "text/x-python",
   "name": "python",
   "nbconvert_exporter": "python",
   "pygments_lexer": "ipython3",
   "version": "3.5.3"
  }
 },
 "nbformat": 4,
 "nbformat_minor": 2
}
