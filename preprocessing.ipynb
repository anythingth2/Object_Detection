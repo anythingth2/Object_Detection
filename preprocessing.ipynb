{
 "cells": [
  {
   "cell_type": "code",
   "execution_count": 3,
   "metadata": {},
   "outputs": [],
   "source": [
    "import json\n",
    "import cv2\n",
    "import matplotlib.pyplot as plt"
   ]
  },
  {
   "cell_type": "code",
   "execution_count": 1,
   "metadata": {},
   "outputs": [],
   "source": [
    "train_datasets_path = 'train2014/'\n",
    "annotations_path = 'annotations/'"
   ]
  },
  {
   "cell_type": "code",
   "execution_count": 4,
   "metadata": {},
   "outputs": [
    {
     "data": {
      "text/plain": [
       "dict_keys(['images', 'info', 'categories', 'annotations', 'licenses'])"
      ]
     },
     "execution_count": 4,
     "metadata": {},
     "output_type": "execute_result"
    }
   ],
   "source": [
    "annotations_json_path = annotations_path + 'instances_train2014.json'\n",
    "annotations_json = json.load(open(annotations_json_path,'r'))\n",
    "annotations_json.keys()"
   ]
  },
  {
   "cell_type": "code",
   "execution_count": 16,
   "metadata": {},
   "outputs": [],
   "source": [
    "i = 0\n",
    "annotation = annotations_json['annotations'][i]\n",
    "imgName = '{}COCO_train2014_{}.jpg'.format( train_datasets_path,str(annotation['image_id']).zfill(12) )\n",
    "img = cv2.imread(imgName)\n",
    "bbox = annotation['bbox']\n",
    "class_id = annotation['category_id']"
   ]
  },
  {
   "cell_type": "code",
   "execution_count": 17,
   "metadata": {},
   "outputs": [
    {
     "name": "stdout",
     "output_type": "stream",
     "text": [
      "82783 604907\n"
     ]
    }
   ],
   "source": [
    "print(len(annotations_json['images']),len(annotations_json['annotations']))"
   ]
  },
  {
   "cell_type": "code",
   "execution_count": 21,
   "metadata": {},
   "outputs": [
    {
     "data": {
      "text/plain": [
       "dict_keys(['image_id', 'id', 'iscrowd', 'category_id', 'area', 'bbox', 'segmentation'])"
      ]
     },
     "execution_count": 21,
     "metadata": {},
     "output_type": "execute_result"
    }
   ],
   "source": [
    "annotation.keys()"
   ]
  },
  {
   "cell_type": "code",
   "execution_count": 13,
   "metadata": {},
   "outputs": [
    {
     "data": {
      "text/plain": [
       "dict_keys(['images', 'info', 'categories', 'annotations', 'licenses'])"
      ]
     },
     "execution_count": 13,
     "metadata": {},
     "output_type": "execute_result"
    }
   ],
   "source": [
    "annotations_json.keys()"
   ]
  },
  {
   "cell_type": "code",
   "execution_count": 15,
   "metadata": {},
   "outputs": [
    {
     "data": {
      "text/plain": [
       "[{'id': 1, 'name': 'person', 'supercategory': 'person'},\n",
       " {'id': 2, 'name': 'bicycle', 'supercategory': 'vehicle'},\n",
       " {'id': 3, 'name': 'car', 'supercategory': 'vehicle'},\n",
       " {'id': 4, 'name': 'motorcycle', 'supercategory': 'vehicle'},\n",
       " {'id': 5, 'name': 'airplane', 'supercategory': 'vehicle'},\n",
       " {'id': 6, 'name': 'bus', 'supercategory': 'vehicle'},\n",
       " {'id': 7, 'name': 'train', 'supercategory': 'vehicle'},\n",
       " {'id': 8, 'name': 'truck', 'supercategory': 'vehicle'},\n",
       " {'id': 9, 'name': 'boat', 'supercategory': 'vehicle'},\n",
       " {'id': 10, 'name': 'traffic light', 'supercategory': 'outdoor'},\n",
       " {'id': 11, 'name': 'fire hydrant', 'supercategory': 'outdoor'},\n",
       " {'id': 13, 'name': 'stop sign', 'supercategory': 'outdoor'},\n",
       " {'id': 14, 'name': 'parking meter', 'supercategory': 'outdoor'},\n",
       " {'id': 15, 'name': 'bench', 'supercategory': 'outdoor'},\n",
       " {'id': 16, 'name': 'bird', 'supercategory': 'animal'},\n",
       " {'id': 17, 'name': 'cat', 'supercategory': 'animal'},\n",
       " {'id': 18, 'name': 'dog', 'supercategory': 'animal'},\n",
       " {'id': 19, 'name': 'horse', 'supercategory': 'animal'},\n",
       " {'id': 20, 'name': 'sheep', 'supercategory': 'animal'},\n",
       " {'id': 21, 'name': 'cow', 'supercategory': 'animal'},\n",
       " {'id': 22, 'name': 'elephant', 'supercategory': 'animal'},\n",
       " {'id': 23, 'name': 'bear', 'supercategory': 'animal'},\n",
       " {'id': 24, 'name': 'zebra', 'supercategory': 'animal'},\n",
       " {'id': 25, 'name': 'giraffe', 'supercategory': 'animal'},\n",
       " {'id': 27, 'name': 'backpack', 'supercategory': 'accessory'},\n",
       " {'id': 28, 'name': 'umbrella', 'supercategory': 'accessory'},\n",
       " {'id': 31, 'name': 'handbag', 'supercategory': 'accessory'},\n",
       " {'id': 32, 'name': 'tie', 'supercategory': 'accessory'},\n",
       " {'id': 33, 'name': 'suitcase', 'supercategory': 'accessory'},\n",
       " {'id': 34, 'name': 'frisbee', 'supercategory': 'sports'},\n",
       " {'id': 35, 'name': 'skis', 'supercategory': 'sports'},\n",
       " {'id': 36, 'name': 'snowboard', 'supercategory': 'sports'},\n",
       " {'id': 37, 'name': 'sports ball', 'supercategory': 'sports'},\n",
       " {'id': 38, 'name': 'kite', 'supercategory': 'sports'},\n",
       " {'id': 39, 'name': 'baseball bat', 'supercategory': 'sports'},\n",
       " {'id': 40, 'name': 'baseball glove', 'supercategory': 'sports'},\n",
       " {'id': 41, 'name': 'skateboard', 'supercategory': 'sports'},\n",
       " {'id': 42, 'name': 'surfboard', 'supercategory': 'sports'},\n",
       " {'id': 43, 'name': 'tennis racket', 'supercategory': 'sports'},\n",
       " {'id': 44, 'name': 'bottle', 'supercategory': 'kitchen'},\n",
       " {'id': 46, 'name': 'wine glass', 'supercategory': 'kitchen'},\n",
       " {'id': 47, 'name': 'cup', 'supercategory': 'kitchen'},\n",
       " {'id': 48, 'name': 'fork', 'supercategory': 'kitchen'},\n",
       " {'id': 49, 'name': 'knife', 'supercategory': 'kitchen'},\n",
       " {'id': 50, 'name': 'spoon', 'supercategory': 'kitchen'},\n",
       " {'id': 51, 'name': 'bowl', 'supercategory': 'kitchen'},\n",
       " {'id': 52, 'name': 'banana', 'supercategory': 'food'},\n",
       " {'id': 53, 'name': 'apple', 'supercategory': 'food'},\n",
       " {'id': 54, 'name': 'sandwich', 'supercategory': 'food'},\n",
       " {'id': 55, 'name': 'orange', 'supercategory': 'food'},\n",
       " {'id': 56, 'name': 'broccoli', 'supercategory': 'food'},\n",
       " {'id': 57, 'name': 'carrot', 'supercategory': 'food'},\n",
       " {'id': 58, 'name': 'hot dog', 'supercategory': 'food'},\n",
       " {'id': 59, 'name': 'pizza', 'supercategory': 'food'},\n",
       " {'id': 60, 'name': 'donut', 'supercategory': 'food'},\n",
       " {'id': 61, 'name': 'cake', 'supercategory': 'food'},\n",
       " {'id': 62, 'name': 'chair', 'supercategory': 'furniture'},\n",
       " {'id': 63, 'name': 'couch', 'supercategory': 'furniture'},\n",
       " {'id': 64, 'name': 'potted plant', 'supercategory': 'furniture'},\n",
       " {'id': 65, 'name': 'bed', 'supercategory': 'furniture'},\n",
       " {'id': 67, 'name': 'dining table', 'supercategory': 'furniture'},\n",
       " {'id': 70, 'name': 'toilet', 'supercategory': 'furniture'},\n",
       " {'id': 72, 'name': 'tv', 'supercategory': 'electronic'},\n",
       " {'id': 73, 'name': 'laptop', 'supercategory': 'electronic'},\n",
       " {'id': 74, 'name': 'mouse', 'supercategory': 'electronic'},\n",
       " {'id': 75, 'name': 'remote', 'supercategory': 'electronic'},\n",
       " {'id': 76, 'name': 'keyboard', 'supercategory': 'electronic'},\n",
       " {'id': 77, 'name': 'cell phone', 'supercategory': 'electronic'},\n",
       " {'id': 78, 'name': 'microwave', 'supercategory': 'appliance'},\n",
       " {'id': 79, 'name': 'oven', 'supercategory': 'appliance'},\n",
       " {'id': 80, 'name': 'toaster', 'supercategory': 'appliance'},\n",
       " {'id': 81, 'name': 'sink', 'supercategory': 'appliance'},\n",
       " {'id': 82, 'name': 'refrigerator', 'supercategory': 'appliance'},\n",
       " {'id': 84, 'name': 'book', 'supercategory': 'indoor'},\n",
       " {'id': 85, 'name': 'clock', 'supercategory': 'indoor'},\n",
       " {'id': 86, 'name': 'vase', 'supercategory': 'indoor'},\n",
       " {'id': 87, 'name': 'scissors', 'supercategory': 'indoor'},\n",
       " {'id': 88, 'name': 'teddy bear', 'supercategory': 'indoor'},\n",
       " {'id': 89, 'name': 'hair drier', 'supercategory': 'indoor'},\n",
       " {'id': 90, 'name': 'toothbrush', 'supercategory': 'indoor'}]"
      ]
     },
     "execution_count": 15,
     "metadata": {},
     "output_type": "execute_result"
    }
   ],
   "source": []
  },
  {
   "cell_type": "code",
   "execution_count": null,
   "metadata": {},
   "outputs": [],
   "source": []
  }
 ],
 "metadata": {
  "kernelspec": {
   "display_name": "Python 3",
   "language": "python",
   "name": "python3"
  },
  "language_info": {
   "codemirror_mode": {
    "name": "ipython",
    "version": 3
   },
   "file_extension": ".py",
   "mimetype": "text/x-python",
   "name": "python",
   "nbconvert_exporter": "python",
   "pygments_lexer": "ipython3",
   "version": "3.5.3"
  }
 },
 "nbformat": 4,
 "nbformat_minor": 2
}
